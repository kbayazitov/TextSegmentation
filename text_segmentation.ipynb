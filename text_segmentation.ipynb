{
  "nbformat": 4,
  "nbformat_minor": 0,
  "metadata": {
    "colab": {
      "provenance": [],
      "collapsed_sections": [
        "MhUOelwpzUvg",
        "u_2tKJ7zzbfP",
        "8tZgC4KpVhFs",
        "jAWStNkSfVDZ"
      ]
    },
    "kernelspec": {
      "name": "python3",
      "display_name": "Python 3"
    },
    "language_info": {
      "name": "python"
    },
    "widgets": {
      "application/vnd.jupyter.widget-state+json": {
        "d4a8859796544e3292e57a2e14c68773": {
          "model_module": "@jupyter-widgets/controls",
          "model_name": "HBoxModel",
          "model_module_version": "1.5.0",
          "state": {
            "_dom_classes": [],
            "_model_module": "@jupyter-widgets/controls",
            "_model_module_version": "1.5.0",
            "_model_name": "HBoxModel",
            "_view_count": null,
            "_view_module": "@jupyter-widgets/controls",
            "_view_module_version": "1.5.0",
            "_view_name": "HBoxView",
            "box_style": "",
            "children": [
              "IPY_MODEL_4b8403d2704245208ae182a8b59522f9",
              "IPY_MODEL_af5808d0cae940e996842f6323e7b154",
              "IPY_MODEL_6934088739d1435ea90ae237d76d5b81"
            ],
            "layout": "IPY_MODEL_c8cbd854538b40cba289a1a216382c64"
          }
        },
        "4b8403d2704245208ae182a8b59522f9": {
          "model_module": "@jupyter-widgets/controls",
          "model_name": "HTMLModel",
          "model_module_version": "1.5.0",
          "state": {
            "_dom_classes": [],
            "_model_module": "@jupyter-widgets/controls",
            "_model_module_version": "1.5.0",
            "_model_name": "HTMLModel",
            "_view_count": null,
            "_view_module": "@jupyter-widgets/controls",
            "_view_module_version": "1.5.0",
            "_view_name": "HTMLView",
            "description": "",
            "description_tooltip": null,
            "layout": "IPY_MODEL_ed8b2db0db0c40439bd1406b2dcb3264",
            "placeholder": "​",
            "style": "IPY_MODEL_184ddd956d334a6280717235a6b0faad",
            "value": "100%"
          }
        },
        "af5808d0cae940e996842f6323e7b154": {
          "model_module": "@jupyter-widgets/controls",
          "model_name": "FloatProgressModel",
          "model_module_version": "1.5.0",
          "state": {
            "_dom_classes": [],
            "_model_module": "@jupyter-widgets/controls",
            "_model_module_version": "1.5.0",
            "_model_name": "FloatProgressModel",
            "_view_count": null,
            "_view_module": "@jupyter-widgets/controls",
            "_view_module_version": "1.5.0",
            "_view_name": "ProgressView",
            "bar_style": "success",
            "description": "",
            "description_tooltip": null,
            "layout": "IPY_MODEL_bccb9c977b7942d38660784a7e41f794",
            "max": 1300,
            "min": 0,
            "orientation": "horizontal",
            "style": "IPY_MODEL_66942ea8e46b44dab15599ffd3a40e83",
            "value": 1300
          }
        },
        "6934088739d1435ea90ae237d76d5b81": {
          "model_module": "@jupyter-widgets/controls",
          "model_name": "HTMLModel",
          "model_module_version": "1.5.0",
          "state": {
            "_dom_classes": [],
            "_model_module": "@jupyter-widgets/controls",
            "_model_module_version": "1.5.0",
            "_model_name": "HTMLModel",
            "_view_count": null,
            "_view_module": "@jupyter-widgets/controls",
            "_view_module_version": "1.5.0",
            "_view_name": "HTMLView",
            "description": "",
            "description_tooltip": null,
            "layout": "IPY_MODEL_02fb3f334e0b4aa99b3512d12e0322b7",
            "placeholder": "​",
            "style": "IPY_MODEL_18feb8d42ca44f109671d88436274686",
            "value": " 1300/1300 [02:49&lt;00:00,  7.54it/s]"
          }
        },
        "c8cbd854538b40cba289a1a216382c64": {
          "model_module": "@jupyter-widgets/base",
          "model_name": "LayoutModel",
          "model_module_version": "1.2.0",
          "state": {
            "_model_module": "@jupyter-widgets/base",
            "_model_module_version": "1.2.0",
            "_model_name": "LayoutModel",
            "_view_count": null,
            "_view_module": "@jupyter-widgets/base",
            "_view_module_version": "1.2.0",
            "_view_name": "LayoutView",
            "align_content": null,
            "align_items": null,
            "align_self": null,
            "border": null,
            "bottom": null,
            "display": null,
            "flex": null,
            "flex_flow": null,
            "grid_area": null,
            "grid_auto_columns": null,
            "grid_auto_flow": null,
            "grid_auto_rows": null,
            "grid_column": null,
            "grid_gap": null,
            "grid_row": null,
            "grid_template_areas": null,
            "grid_template_columns": null,
            "grid_template_rows": null,
            "height": null,
            "justify_content": null,
            "justify_items": null,
            "left": null,
            "margin": null,
            "max_height": null,
            "max_width": null,
            "min_height": null,
            "min_width": null,
            "object_fit": null,
            "object_position": null,
            "order": null,
            "overflow": null,
            "overflow_x": null,
            "overflow_y": null,
            "padding": null,
            "right": null,
            "top": null,
            "visibility": null,
            "width": null
          }
        },
        "ed8b2db0db0c40439bd1406b2dcb3264": {
          "model_module": "@jupyter-widgets/base",
          "model_name": "LayoutModel",
          "model_module_version": "1.2.0",
          "state": {
            "_model_module": "@jupyter-widgets/base",
            "_model_module_version": "1.2.0",
            "_model_name": "LayoutModel",
            "_view_count": null,
            "_view_module": "@jupyter-widgets/base",
            "_view_module_version": "1.2.0",
            "_view_name": "LayoutView",
            "align_content": null,
            "align_items": null,
            "align_self": null,
            "border": null,
            "bottom": null,
            "display": null,
            "flex": null,
            "flex_flow": null,
            "grid_area": null,
            "grid_auto_columns": null,
            "grid_auto_flow": null,
            "grid_auto_rows": null,
            "grid_column": null,
            "grid_gap": null,
            "grid_row": null,
            "grid_template_areas": null,
            "grid_template_columns": null,
            "grid_template_rows": null,
            "height": null,
            "justify_content": null,
            "justify_items": null,
            "left": null,
            "margin": null,
            "max_height": null,
            "max_width": null,
            "min_height": null,
            "min_width": null,
            "object_fit": null,
            "object_position": null,
            "order": null,
            "overflow": null,
            "overflow_x": null,
            "overflow_y": null,
            "padding": null,
            "right": null,
            "top": null,
            "visibility": null,
            "width": null
          }
        },
        "184ddd956d334a6280717235a6b0faad": {
          "model_module": "@jupyter-widgets/controls",
          "model_name": "DescriptionStyleModel",
          "model_module_version": "1.5.0",
          "state": {
            "_model_module": "@jupyter-widgets/controls",
            "_model_module_version": "1.5.0",
            "_model_name": "DescriptionStyleModel",
            "_view_count": null,
            "_view_module": "@jupyter-widgets/base",
            "_view_module_version": "1.2.0",
            "_view_name": "StyleView",
            "description_width": ""
          }
        },
        "bccb9c977b7942d38660784a7e41f794": {
          "model_module": "@jupyter-widgets/base",
          "model_name": "LayoutModel",
          "model_module_version": "1.2.0",
          "state": {
            "_model_module": "@jupyter-widgets/base",
            "_model_module_version": "1.2.0",
            "_model_name": "LayoutModel",
            "_view_count": null,
            "_view_module": "@jupyter-widgets/base",
            "_view_module_version": "1.2.0",
            "_view_name": "LayoutView",
            "align_content": null,
            "align_items": null,
            "align_self": null,
            "border": null,
            "bottom": null,
            "display": null,
            "flex": null,
            "flex_flow": null,
            "grid_area": null,
            "grid_auto_columns": null,
            "grid_auto_flow": null,
            "grid_auto_rows": null,
            "grid_column": null,
            "grid_gap": null,
            "grid_row": null,
            "grid_template_areas": null,
            "grid_template_columns": null,
            "grid_template_rows": null,
            "height": null,
            "justify_content": null,
            "justify_items": null,
            "left": null,
            "margin": null,
            "max_height": null,
            "max_width": null,
            "min_height": null,
            "min_width": null,
            "object_fit": null,
            "object_position": null,
            "order": null,
            "overflow": null,
            "overflow_x": null,
            "overflow_y": null,
            "padding": null,
            "right": null,
            "top": null,
            "visibility": null,
            "width": null
          }
        },
        "66942ea8e46b44dab15599ffd3a40e83": {
          "model_module": "@jupyter-widgets/controls",
          "model_name": "ProgressStyleModel",
          "model_module_version": "1.5.0",
          "state": {
            "_model_module": "@jupyter-widgets/controls",
            "_model_module_version": "1.5.0",
            "_model_name": "ProgressStyleModel",
            "_view_count": null,
            "_view_module": "@jupyter-widgets/base",
            "_view_module_version": "1.2.0",
            "_view_name": "StyleView",
            "bar_color": null,
            "description_width": ""
          }
        },
        "02fb3f334e0b4aa99b3512d12e0322b7": {
          "model_module": "@jupyter-widgets/base",
          "model_name": "LayoutModel",
          "model_module_version": "1.2.0",
          "state": {
            "_model_module": "@jupyter-widgets/base",
            "_model_module_version": "1.2.0",
            "_model_name": "LayoutModel",
            "_view_count": null,
            "_view_module": "@jupyter-widgets/base",
            "_view_module_version": "1.2.0",
            "_view_name": "LayoutView",
            "align_content": null,
            "align_items": null,
            "align_self": null,
            "border": null,
            "bottom": null,
            "display": null,
            "flex": null,
            "flex_flow": null,
            "grid_area": null,
            "grid_auto_columns": null,
            "grid_auto_flow": null,
            "grid_auto_rows": null,
            "grid_column": null,
            "grid_gap": null,
            "grid_row": null,
            "grid_template_areas": null,
            "grid_template_columns": null,
            "grid_template_rows": null,
            "height": null,
            "justify_content": null,
            "justify_items": null,
            "left": null,
            "margin": null,
            "max_height": null,
            "max_width": null,
            "min_height": null,
            "min_width": null,
            "object_fit": null,
            "object_position": null,
            "order": null,
            "overflow": null,
            "overflow_x": null,
            "overflow_y": null,
            "padding": null,
            "right": null,
            "top": null,
            "visibility": null,
            "width": null
          }
        },
        "18feb8d42ca44f109671d88436274686": {
          "model_module": "@jupyter-widgets/controls",
          "model_name": "DescriptionStyleModel",
          "model_module_version": "1.5.0",
          "state": {
            "_model_module": "@jupyter-widgets/controls",
            "_model_module_version": "1.5.0",
            "_model_name": "DescriptionStyleModel",
            "_view_count": null,
            "_view_module": "@jupyter-widgets/base",
            "_view_module_version": "1.2.0",
            "_view_name": "StyleView",
            "description_width": ""
          }
        }
      }
    },
    "accelerator": "GPU"
  },
  "cells": [
    {
      "cell_type": "markdown",
      "source": [
        "# Библиотеки"
      ],
      "metadata": {
        "id": "k2tjT7tZzSnK"
      }
    },
    {
      "cell_type": "code",
      "source": [
        "from tqdm.notebook import tqdm\n",
        "import numpy as np\n",
        "import json\n",
        "import torch\n",
        "from nltk.tokenize import RegexpTokenizer\n",
        "from sklearn.metrics import classification_report\n",
        "from torch.utils.tensorboard import SummaryWriter\n",
        "import re\n",
        "import string"
      ],
      "metadata": {
        "id": "_hQtHmfvv6e6"
      },
      "execution_count": 1,
      "outputs": []
    },
    {
      "cell_type": "code",
      "source": [
        "import warnings\n",
        "warnings.filterwarnings(\"ignore\")"
      ],
      "metadata": {
        "id": "qn8TRCErG9V1"
      },
      "execution_count": 2,
      "outputs": []
    },
    {
      "cell_type": "code",
      "source": [
        "device = 'cuda' if torch.cuda.is_available() else 'cpu'\n",
        "device"
      ],
      "metadata": {
        "colab": {
          "base_uri": "https://localhost:8080/",
          "height": 35
        },
        "id": "StAyPfRzG-U1",
        "outputId": "790e6cbe-4e22-4aae-fa6d-2fecc6b7c12b"
      },
      "execution_count": 3,
      "outputs": [
        {
          "output_type": "execute_result",
          "data": {
            "text/plain": [
              "'cuda'"
            ],
            "application/vnd.google.colaboratory.intrinsic+json": {
              "type": "string"
            }
          },
          "metadata": {},
          "execution_count": 3
        }
      ]
    },
    {
      "cell_type": "code",
      "source": [
        "!git clone https://github.com/kbayazitov/VK_nlp"
      ],
      "metadata": {
        "colab": {
          "base_uri": "https://localhost:8080/"
        },
        "id": "TuoymzaeAxQM",
        "outputId": "aece744d-90b2-480a-d5b5-5550db02259d"
      },
      "execution_count": 4,
      "outputs": [
        {
          "output_type": "stream",
          "name": "stdout",
          "text": [
            "Cloning into 'VK_nlp'...\n",
            "remote: Enumerating objects: 12, done.\u001b[K\n",
            "remote: Counting objects: 100% (12/12), done.\u001b[K\n",
            "remote: Compressing objects: 100% (8/8), done.\u001b[K\n",
            "remote: Total 12 (delta 0), reused 0 (delta 0), pack-reused 0\u001b[K\n",
            "Unpacking objects: 100% (12/12), done.\n"
          ]
        }
      ]
    },
    {
      "cell_type": "markdown",
      "source": [
        "# Выборка"
      ],
      "metadata": {
        "id": "znAAJbcsRKB5"
      }
    },
    {
      "cell_type": "code",
      "source": [
        "texts = []\n",
        "for line in open('/content/VK_nlp/data.jsonl', 'r'):\n",
        "    texts.append(json.loads(line))"
      ],
      "metadata": {
        "id": "RUNYhMdvRLwo"
      },
      "execution_count": 5,
      "outputs": []
    },
    {
      "cell_type": "code",
      "source": [
        "len(texts)"
      ],
      "metadata": {
        "colab": {
          "base_uri": "https://localhost:8080/"
        },
        "id": "6OSvNUPsRVAA",
        "outputId": "9236e3a1-9280-4c5e-b811-6e544cf212a2"
      },
      "execution_count": 6,
      "outputs": [
        {
          "output_type": "execute_result",
          "data": {
            "text/plain": [
              "1300"
            ]
          },
          "metadata": {},
          "execution_count": 6
        }
      ]
    },
    {
      "cell_type": "code",
      "source": [
        "texts[0][:5]"
      ],
      "metadata": {
        "colab": {
          "base_uri": "https://localhost:8080/"
        },
        "id": "R02NfPuTRPII",
        "outputId": "f60e8885-6ca6-4165-bf6a-2e17e7ca79b5"
      },
      "execution_count": 7,
      "outputs": [
        {
          "output_type": "execute_result",
          "data": {
            "text/plain": [
              "[['С 1768 года Россия ведёт войну против Османской империи.', 1],\n",
              " ['В середине января 1770 года корпус генерала Христофора Штофельна, призванный очистить Молдавию и Валахию от турок, разместился в столице Молдавского княжества городе Яссы.',\n",
              "  0],\n",
              " ['Там русскую армию встретил враг, по жестокости не уступающий башибузукам – чума.',\n",
              "  0],\n",
              " ['За зиму она унесла жизни нескольких тысяч солдат.', 0],\n",
              " ['Вскоре эпидемия вспыхнула в близлежащей Польше, а в августе достигла Киева: к началу ноября 1770 года из 20-ти тысяч жителей города умерло более шести.',\n",
              "  1]]"
            ]
          },
          "metadata": {},
          "execution_count": 7
        }
      ]
    },
    {
      "cell_type": "markdown",
      "source": [
        "# Описание идеи"
      ],
      "metadata": {
        "id": "P9z_3yt7T4de"
      }
    },
    {
      "cell_type": "markdown",
      "source": [
        "Эта задача очень схожа с задачей распознавания именнованных сущностей, которая хорошо решается с помощью LSTM модели. Однако в данном случае у нас вместо разметки слов - разметка предложений. Нужно придумать метод получения векторного представления предложений. Опять же напрашивается LSTM модель (Так как снова работаем с последовательностью - слова в предложении)\n",
        "\n",
        "Будем использовать композицию из двух biLSTM моделей. Первая модель $SentenceLSTM$ будет принимать предложения в виде эмбеддингов слов и возвращать эмбеддинг всего предложения на основе макспулинга. Вторая модель $TextLSTM$ будет принимать эмбеддинги предложений из одного текста и возвращать метки классов после полносвязного слоя. "
      ],
      "metadata": {
        "id": "b415P4-cT8Un"
      }
    },
    {
      "cell_type": "markdown",
      "source": [
        "# Import Fasttext"
      ],
      "metadata": {
        "id": "MhUOelwpzUvg"
      }
    },
    {
      "cell_type": "markdown",
      "source": [
        "Для векторизации текстов будем использовать сжатую fast-text модель с $dim=300$"
      ],
      "metadata": {
        "id": "RCCuVskmRa6t"
      }
    },
    {
      "cell_type": "code",
      "source": [
        "!pip install -q compress-fasttext"
      ],
      "metadata": {
        "id": "pS-woWki_DLv",
        "colab": {
          "base_uri": "https://localhost:8080/"
        },
        "outputId": "77b68533-5576-425f-ffdb-f054fe21e9ce"
      },
      "execution_count": 8,
      "outputs": [
        {
          "output_type": "stream",
          "name": "stdout",
          "text": [
            "\u001b[K     |████████████████████████████████| 24.1 MB 1.3 MB/s \n",
            "\u001b[?25h  Building wheel for compress-fasttext (setup.py) ... \u001b[?25l\u001b[?25hdone\n"
          ]
        }
      ]
    },
    {
      "cell_type": "code",
      "source": [
        "import compress_fasttext"
      ],
      "metadata": {
        "id": "YfgMlkAC_TAE"
      },
      "execution_count": 9,
      "outputs": []
    },
    {
      "cell_type": "code",
      "source": [
        "ft = compress_fasttext.models.CompressedFastTextKeyedVectors.load(\n",
        "    'https://github.com/avidale/compress-fasttext/releases/download/gensim-4-draft/geowac_tokens_sg_300_5_2020-100K-20K-100.bin'\n",
        ")"
      ],
      "metadata": {
        "id": "IsZLhmvD_PPN"
      },
      "execution_count": 10,
      "outputs": []
    },
    {
      "cell_type": "markdown",
      "source": [
        "# Модель"
      ],
      "metadata": {
        "id": "u_2tKJ7zzbfP"
      }
    },
    {
      "cell_type": "code",
      "source": [
        "class SentenceLSTM(torch.nn.Module):\n",
        "    @property\n",
        "    def device(self):\n",
        "        return next(self.parameters()).device\n",
        "\n",
        "    def __init__(self, emb_dim, hidden_dim):\n",
        "        super(SentenceLSTM, self).__init__()\n",
        "        self.encoder = torch.nn.LSTM(emb_dim, hidden_dim, num_layers=2, \n",
        "                                     bidirectional=True, \n",
        "                                     batch_first=True, dropout=0.1)\n",
        "        self.emb_dim = emb_dim\n",
        "        self.hidden_dim = hidden_dim\n",
        "        \n",
        "    def forward(self, input):\n",
        "        batch_size = input.shape[0]\n",
        "        act, _ = self.encoder(input)\n",
        "        res = torch.zeros(batch_size, act.shape[2])\n",
        "        for i in range(batch_size):\n",
        "            res[i, :] = torch.max(act[i], 0)[0] # макспулинг\n",
        "        return res"
      ],
      "metadata": {
        "id": "U4WZNgN4xzgI"
      },
      "execution_count": 11,
      "outputs": []
    },
    {
      "cell_type": "code",
      "source": [
        "class TextLSTM(torch.nn.Module):\n",
        "    @property\n",
        "    def device(self):\n",
        "        return next(self.parameters()).device\n",
        "\n",
        "    def __init__(self, sentence_encoder, hidden_dim, output_dim):\n",
        "        super(TextLSTM, self).__init__()\n",
        "        self.encoder = torch.nn.LSTM(sentence_encoder.hidden_dim * 2,\n",
        "                                     hidden_dim, num_layers=2, \n",
        "                                     bidirectional=True, \n",
        "                                     batch_first=True, dropout=0.1)\n",
        "\n",
        "        self.linear = torch.nn.Linear(2*hidden_dim, output_dim)        \n",
        "        self.sentence_encoder = sentence_encoder\n",
        "\n",
        "    def forward(self, input):\n",
        "        encoded_sentence = self.sentence_encoder(input).to(device)\n",
        "        act, _ = self.encoder(encoded_sentence)\n",
        "        return self.linear(act)"
      ],
      "metadata": {
        "id": "vFmAd702gqfS"
      },
      "execution_count": 12,
      "outputs": []
    },
    {
      "cell_type": "markdown",
      "source": [
        "# Код для обучения "
      ],
      "metadata": {
        "id": "8tZgC4KpVhFs"
      }
    },
    {
      "cell_type": "code",
      "source": [
        "def trainer(count_of_epoch, \n",
        "            dataset,\n",
        "            model, \n",
        "            loss_function,\n",
        "            optimizer,\n",
        "            lr = 0.001):\n",
        "\n",
        "    optima = optimizer(model.parameters(), lr=lr)\n",
        "    \n",
        "    iterations = tqdm(range(count_of_epoch), desc='epoch')\n",
        "\n",
        "    for it in iterations:\n",
        "        for ds in dataset:\n",
        "            batch_generator = torch.utils.data.DataLoader(dataset=ds, batch_size=len(ds))\n",
        "            for it, (x_batch, y_batch) in enumerate(batch_generator):\n",
        "                model.train()\n",
        "                optima.zero_grad()\n",
        "\n",
        "                x_batch = x_batch.to(device)\n",
        "                y_batch = y_batch.to(device)\n",
        "\n",
        "                output = model(x_batch)\n",
        "    \n",
        "                loss = loss_function(output, y_batch)\n",
        "                loss.backward()\n",
        "                optima.step()"
      ],
      "metadata": {
        "id": "1UTFv1bFVi-K"
      },
      "execution_count": 13,
      "outputs": []
    },
    {
      "cell_type": "markdown",
      "source": [
        "# Токенизатор + Векторизатор "
      ],
      "metadata": {
        "id": "jAWStNkSfVDZ"
      }
    },
    {
      "cell_type": "markdown",
      "source": [
        "Сначала токенизируем тексты с помощью CustomTokenizer, далее векторизуем на основе FastText"
      ],
      "metadata": {
        "id": "nVtPtDZfSkQT"
      }
    },
    {
      "cell_type": "code",
      "source": [
        "class CustomTokenizer:\n",
        "    def __init__(self):\n",
        "        pass\n",
        "    def tokenize(self, text):\n",
        "        text = re.sub(f'[{string.punctuation}]', ' ', text) \n",
        "        t = RegexpTokenizer(r'[a-zа-яёЁА-ЯA-Z]+|[^\\w\\s]|\\d+')\n",
        "        tokens = t.tokenize(text.lower())\n",
        "        return tokens"
      ],
      "metadata": {
        "id": "BllljUDCSJJP"
      },
      "execution_count": 14,
      "outputs": []
    },
    {
      "cell_type": "code",
      "source": [
        "class VectorizerFastText(object):\n",
        "    def __init__(self, ft, tokenizer):\n",
        "        self.ft = ft\n",
        "        self.tokenizer = tokenizer\n",
        "    def __call__(self, sentences, max_length=None):\n",
        "        \n",
        "        if max_length is None:\n",
        "            max_length = max(len(sentences[i]) for i in range(len(sentences)))\n",
        "\n",
        "        res = []\n",
        "        for sent in sentences:\n",
        "            tokens = self.tokenizer.tokenize(sent)\n",
        "\n",
        "            if len(tokens) < max_length:\n",
        "                tokens = tokens + ['[PAD]']*(max_length-len(tokens))\n",
        "            else:\n",
        "                tokens = tokens[:max_length]\n",
        "\n",
        "            res.append(tokens)\n",
        "\n",
        "        vectors = np.array([[self.ft[w] for w in sent] for sent in res])\n",
        "        return torch.tensor(vectors, dtype=torch.float32)"
      ],
      "metadata": {
        "id": "AQUklmWYh1AV"
      },
      "execution_count": 15,
      "outputs": []
    },
    {
      "cell_type": "code",
      "source": [
        "Tokenizer = CustomTokenizer()\n",
        "Vectorizer = VectorizerFastText(ft, Tokenizer)"
      ],
      "metadata": {
        "id": "XUZDnQaitBIb"
      },
      "execution_count": 16,
      "outputs": []
    },
    {
      "cell_type": "markdown",
      "source": [
        "# Эксперимент"
      ],
      "metadata": {
        "id": "e7aQbvHafoQb"
      }
    },
    {
      "cell_type": "markdown",
      "source": [
        "### Создание выборки"
      ],
      "metadata": {
        "id": "WGMRgrkiS9jw"
      }
    },
    {
      "cell_type": "code",
      "source": [
        "dataset = []\n",
        "for text in tqdm(texts):\n",
        "    sents = list(list(zip(*text))[0])\n",
        "    tags = list(list(zip(*text))[1])\n",
        "    vect_sents = Vectorizer(sents, max_length=25) # Оставим в каждом предложении только первые 25 токенов (Больше не позволяет ОЗУ)\n",
        "    vect_text = torch.utils.data.TensorDataset(vect_sents, torch.tensor(tags).long())\n",
        "    dataset.append(vect_text)\n",
        "\n",
        "dataset_train_pt = dataset[:int(len(dataset)*0.8)]\n",
        "dataset_test_pt = dataset[int(len(dataset)*0.2):]"
      ],
      "metadata": {
        "colab": {
          "base_uri": "https://localhost:8080/",
          "height": 49,
          "referenced_widgets": [
            "d4a8859796544e3292e57a2e14c68773",
            "4b8403d2704245208ae182a8b59522f9",
            "af5808d0cae940e996842f6323e7b154",
            "6934088739d1435ea90ae237d76d5b81",
            "c8cbd854538b40cba289a1a216382c64",
            "ed8b2db0db0c40439bd1406b2dcb3264",
            "184ddd956d334a6280717235a6b0faad",
            "bccb9c977b7942d38660784a7e41f794",
            "66942ea8e46b44dab15599ffd3a40e83",
            "02fb3f334e0b4aa99b3512d12e0322b7",
            "18feb8d42ca44f109671d88436274686"
          ]
        },
        "id": "-1p48Vk-Q0BQ",
        "outputId": "82f52818-9804-4fe0-880e-44fb6d415398"
      },
      "execution_count": 17,
      "outputs": [
        {
          "output_type": "display_data",
          "data": {
            "text/plain": [
              "  0%|          | 0/1300 [00:00<?, ?it/s]"
            ],
            "application/vnd.jupyter.widget-view+json": {
              "version_major": 2,
              "version_minor": 0,
              "model_id": "d4a8859796544e3292e57a2e14c68773"
            }
          },
          "metadata": {}
        }
      ]
    },
    {
      "cell_type": "markdown",
      "source": [
        "### Инициализация модели + Обучение"
      ],
      "metadata": {
        "id": "YklwzUVHTFED"
      }
    },
    {
      "cell_type": "code",
      "source": [
        "'''loss_function = torch.nn.CrossEntropyLoss()\n",
        "optimizer = torch.optim.Adam\n",
        "\n",
        "config = dict()\n",
        "config['sentence_encoder'] = SentenceLSTM(emb_dim=300, hidden_dim=100).to(device)\n",
        "config['hidden_dim'] = 100\n",
        "config['output_dim'] = 3\n",
        "\n",
        "model = TextLSTM(**config)\n",
        "model.to(device)\n",
        "\n",
        "trainer(count_of_epoch=50,  \n",
        "        dataset=dataset_train_pt,\n",
        "        model=model, \n",
        "        loss_function=loss_function,\n",
        "        optimizer=optimizer,\n",
        "        lr=0.001)\n",
        "'''"
      ],
      "metadata": {
        "id": "0Dlh47dlIEEM"
      },
      "execution_count": null,
      "outputs": []
    },
    {
      "cell_type": "code",
      "source": [
        "model = torch.load('/content/VK_nlp/model.pt')"
      ],
      "metadata": {
        "id": "askzfkscCnOC"
      },
      "execution_count": 19,
      "outputs": []
    },
    {
      "cell_type": "markdown",
      "source": [
        "### Результаты"
      ],
      "metadata": {
        "id": "Jh63MrWxTPhE"
      }
    },
    {
      "cell_type": "code",
      "source": [
        "pred = []\n",
        "real = []\n",
        "\n",
        "for ds in dataset_test_pt:\n",
        "    batch_generator = torch.utils.data.DataLoader(dataset=ds, batch_size=len(ds))\n",
        "    model.eval()\n",
        "    for it, (x_batch, y_batch) in enumerate(batch_generator):\n",
        "        x_batch = x_batch.to(device)\n",
        "        output = model(x_batch)\n",
        "\n",
        "    pred.extend(torch.argmax(output, dim=-1).cpu().numpy().tolist())\n",
        "    real.extend(y_batch.cpu().numpy().tolist())\n",
        "\n",
        "print(classification_report(real, pred))"
      ],
      "metadata": {
        "colab": {
          "base_uri": "https://localhost:8080/"
        },
        "id": "FfTYtW-xQWLK",
        "outputId": "7be3f56e-0eb1-4b77-8daa-13545c0f33fb"
      },
      "execution_count": 20,
      "outputs": [
        {
          "output_type": "stream",
          "name": "stdout",
          "text": [
            "              precision    recall  f1-score   support\n",
            "\n",
            "           0       0.92      0.91      0.91     62158\n",
            "           1       0.77      0.80      0.79     26732\n",
            "           2       0.70      0.61      0.65      3039\n",
            "\n",
            "    accuracy                           0.87     91929\n",
            "   macro avg       0.80      0.77      0.78     91929\n",
            "weighted avg       0.87      0.87      0.87     91929\n",
            "\n"
          ]
        }
      ]
    },
    {
      "cell_type": "markdown",
      "source": [
        "# Автоматическое разбиение текста"
      ],
      "metadata": {
        "id": "TUXZUUrGcIDa"
      }
    },
    {
      "cell_type": "code",
      "source": [
        "# Функция, разбивающия текст. В случае sections=True - разбиение на секции, иначе на абзацы\n",
        "def split_text(text, sections=True):\n",
        "    if sections == True:\n",
        "        temp = 2 # Переменная отвечающая за метку класса по которому идет разбиение\n",
        "    else:\n",
        "        temp = 1\n",
        "    # Разбиение текста на предложения\n",
        "    sentences = text.split('.')\n",
        "    if sentences[len(sentences)-1] == '':\n",
        "        sentences = sentences[:len(sentences)-1]\n",
        "    # Векторизация предложений\n",
        "    vect_text = Vectorizer(sentences, max_length=25).to(device)\n",
        "    res = model(vect_text)\n",
        "    labels = torch.argmax(res, dim=-1).cpu().numpy().tolist()\n",
        "    # Получим индексы предложений-начал секций\n",
        "    beginnings_of_segments = []\n",
        "    for i in range(len(labels)):\n",
        "        if labels[i] == temp:\n",
        "            beginnings_of_segments.append(i)\n",
        "    # Заводим лист секций\n",
        "    segments = [[] for i in range(len(beginnings_of_segments))]\n",
        "    i = -1\n",
        "    # Заполняем лист\n",
        "    for j, label in enumerate(labels):\n",
        "        if label == temp:\n",
        "            i += 1\n",
        "        segments[i].append(sentences[j])\n",
        "\n",
        "    # Джойним предложения внутри каждого сегмента\n",
        "    res = []\n",
        "    for segment in segments:\n",
        "        res.append('.'.join(segment))\n",
        "\n",
        "    # Вывод результата\n",
        "    for i, r in enumerate(res):\n",
        "        if sections == True:\n",
        "            print(f'Section {i}: {r}')\n",
        "        else:\n",
        "            print(f'Paragraph {i}: {r}')"
      ],
      "metadata": {
        "id": "sIwmc0I9cYWg"
      },
      "execution_count": 21,
      "outputs": []
    },
    {
      "cell_type": "code",
      "source": [
        "test_text = ' '.join(list(list(zip(*texts[-14]))[0]))"
      ],
      "metadata": {
        "id": "o6KC_ypPdV-f"
      },
      "execution_count": 22,
      "outputs": []
    },
    {
      "cell_type": "code",
      "source": [
        "split_text(test_text, sections=True)"
      ],
      "metadata": {
        "colab": {
          "base_uri": "https://localhost:8080/"
        },
        "id": "SzG0J9rRi8bn",
        "outputId": "98aa4783-38d6-442a-b1e4-986c8ecf526b"
      },
      "execution_count": 23,
      "outputs": [
        {
          "output_type": "stream",
          "name": "stdout",
          "text": [
            "Section 0:  Выходу перевода «Властелина колец» препятствовала государственная цензура, поскольку философия Толкина, по мнению советских цензоров, не соответствовала линии партии. Основная претензия заключалась в том, что «Властелин Колец» содержит «пессимистическую концепцию о необратимом влиянии зла на историческое развитие», которая не укладывалась в оптимистические рамки соцреализма, господствовавшего в советской литературе. Толкин призывал читателя «быть на высоте положения» и отвечать на вызовы Зла, не теряя надежды на торжество Добра, «если оно ещё сильно». В Советском Союзе такую идею, очевидно, сочли содержащей политический подтекст, из-за чего книге не давали зелёный свет более 15 лет. Но в узких кругах московской и ленинградской интеллигенции о «Властелине Колец» знали не понаслышке ещё с 1960-х годов, когда появились первые самиздатовские переводы произведений Толкина. Энтузиасты на коленке переводили «идеологически невыдержанные» романы «буржуазного писателя», переписывали их от руки или перепечатывали на машинках и из-под полы раздавали своим знакомым. Те читали кустарные переводы ночи напролёт, прогуливая учёбу или работу, и через 3-4 дня владения передавали дальше — «надёжным знакомым». Самиздатовцы сильно рисковали, переводя, перепечатывая и даже храня запрещённую литературу — это считалось уголовным преступлением. «Человек терял работу по специальности (или терял возможность продолжать образование), ограничивалась вообще возможность заработков, могли применить административные репрессии. И, кстати говоря, это означало испортить жизнь также и своей семье, родным, друзьям и коллегам», — рассказывала советский филолог Евгения Смагина. «Властелин колец» эпохи 1960-1970-х годов считался «классической диссидентской книгой» как по форме — тексты привозили из-за рубежа, тайно перепечатывали, устно пересказывали на собраниях, — так и по содержанию — читатели, по словам переводчицы Натальи Трауберг, воспринимали книгу не иначе как «миф… как книгу надежды в безнадёжности». По словам исследователя русских переводов Толкина Марка Хукера «один из очевидцев выучил текст „Властелина Колец“ наизусть и стал ходячей книгой, оживив тем самым „451 градус по Фаренгейту“ Рэя Брэдбери». Из-за разрозненности и изолированности самиздатовских групп с середины 1960-х годов по рукам начали ходить несколько независимых переводов книг Толкина\n",
            "Section 1:  Первым переводом «Властелина Колец» на русский язык стала «Повесть о кольце» Зинаиды Бобырь, известной переводчицы западной научной фантастики. Благодаря ей в 1950-е годы в СССР попали ранее неизданные произведения Айзека Азимова, Станислава Лема, Роберта Хайнлайна и Эдмона Гамильтона. Впрочем, назвать работу Бобырь над «Властелином колец» «переводом» в прямом смысле этого слова нельзя. Скорее это адаптированный пересказ, сокращённый почти в три раза — целые главы Бобырь умещала в пару абзацев — и содержащий нескольких новых сюжетных линий. Помимо Кольца Всевластья у переводчицы присутствовал Серебряный Венец — древнее сокровище, которое испепеляло недостойных правителей и давало «величайшую мудрость и всеведение» достойным. Саурон захватил Венец, однако не смел его коснуться, поскольку был «недостойным» без Кольца Всевластья. Арагорну же для получения Венца требовалось победить Саурона. Однако главным отличием от оригинала стали авторские интермедии Бобырь. Переводчица, прекрасно знакомая с зарубежной научной фантастикой, встроила их в повествование таким образом, что адаптированное произведение Толкина превращалось в «рассказ в рассказе», который обрамляет другая история о пятёрке учёных, нашедших древнее Кольцо. Артефакт воздействовал на исследователей, которые шаг за шагом «вспоминали» историю Кольца — события, описанные Толкином, — и пытались объяснить их, в том числе магию, с научной точки зрения. В конце учёные приходили к выводу, что Кольцо — «это не простое кольцо, а какой-то прибор… хранилище информации, которую оно отдает под воздействием искры». «Властелин колец» в руках Зинаиды Бобырь из эпического фэнтези превратился в научно-фантастический роман с вкраплениями нарочитой «сказочности», почерпнутой из разрешённого цензурой «Хоббита», однако такие метаморфозы казались переводчице оправданными. Благодаря им Бобырь сумела спрятать «буржуазное» происхождение автора и подстроить нестандартный толкиновский эпос под культурные и исторические реалии советского общества 1960-х годов. Научно-фантастическая сказка о далёком прошлом неизвестной планеты не пересекалась с реальными историческими процессами, что позволяло «Повести о кольце» избегать любых политических аллюзий и обвинений в мистике. Однако Бобырь была не первой на этом поприще. До неё в 1930-х годах Александр Волков схожим образом создал «Волшебника Изумрудного города» на основе «Волшебника страны Оз», а Алексей Толстой превратил «Пиноккио» в «Буратино». В 1966 году, спустя год работы, Бобырь принесла рукопись «Повести о кольце» в редакцию журнала «Техника — молодёжи», в котором она работала переводчицей с 1943 года. Бобырь надеялась, что в адаптированном и сокращённом виде Толкина напечатают с продолжением в нескольких номерах, как это было с произведениями других авторов. Но в журнале «Повесть о кольце» сочли излишне экспериментальной и, побоявшись, что советская публика просто не поймёт новшеств толкиновского текста, отказали в публикации. Работа переводчицы попала в самиздат и более 20 лет провела там, в составе различных сборников. Перевод Бобырь несколько раз редактировался в 1970-х годах другими авторами, например, инженером Семёном Уманским, завсегдатаем московских «кухонных посиделок». В 1975 году он увидел «Повесть о кольце», когда гостил у своего старого друга Бориса Смагина, журналиста в редакции «Техника — молодёжи», и «загорелся» книгой. Семён Уманский восстановил около 15 глав и все стихотворения, а также добавил предисловие, состоящее из «писем» Толкина и его друга-учёного. Первый в письме к читателям писал, что «получил рукопись и сопроводительную записку… от друга, который работал в Институте проблемных исследований в Дербишире». Друг, в свою очередь, — один из пятёрки учёных — обращался к Толкину: «В силу невероятных обстоятельств нам, пятерым, довелось участвовать в одном эксперименте, окончившемся для нас... плачевно. Мы оказались обладателями совершенно фантастической информации». Дополненный перевод Уманского-Бобырь никогда не издавался, а его читателями был ограниченный круг лиц из членов московского самиздата. В конце 1970-х годах вся семья Уманских эмигрировала в США. Филолог Евгения Смагина предполагала, что Уманским вряд ли разрешили вывезти самиздатовские переводы за рубеж — возможно, большая часть напечатанных экземпляров осталась в частных коллекциях. Труды Зинаиды Бобырь, несмотря на свою экспериментальную сущность, не затерялись бесследно в самиздатовских списках и получили вторую жизнь. В 1980-е годы ранняя версия перевода стала основой для перевода Натальи Григорьевой и Владимира Грушецкого. А в 1990 и 1991 годах московское издательство «Интерпринт» официально выпустило «Повесть о кольце» — спустя 25 лет после её создания. Но к этому моменту перевод Бобырь, написанный в иную эпоху и создававшийся в иных целях, оказался белой вороной, незаслуженно недооценённой на фоне лавины других, более «академических» переводов. В 1975-1976 годах второй самиздатовский перевод «Властелина Колец» выполнил филолог и переводчик Александр Грузберг. К тому моменту он уже несколько лет занимался переводами зарубежной фантастики и тесно сотрудничал с Раисом Зариповым, активным деятелем пермского самиздата. Еженедельно они, как и другие любители чтения, встречались на вещевом рынке Перми и обменивались «хорошими» книгами, которые в те годы были в «самом остром дефиците». Впоследствии Зарипов начал заказывать у Грузберга, филолога по образованию, переводы научно-фантастических повестей и романов. В те годы существовало разветвлённое самиздатовское производство с центром в Ленинграде. Провинциальные «координаторы», как, например, Зарипов, печатали книги на папиросной бумаге в шести экземплярах под копирку, переплетали их, оставляли два экземпляра (один — себе, другой — переводчику), а оставшиеся четыре отправляли бандеролью или попуткой в Ленинград. Там переводы книг «размножали» и распределяли по другим городам СССР, отправляя обратно ещё непереведённый самиздат. Грузберг знал, что участвует в незаконной деятельности, однако работу не прекращал, хотя за неё не платили — Зарипов просто приносил филологу в обмен на переводы новые книги. О лаврах профессионального переводчика Грузберг не думал, «просто занимаясь тем, что нравится». Со временем оригинальных текстов для перевода становилось всё меньше, а те, что были доступны, Грузберг уже перевёл. Как «перспективный научный работник» Пермского педагогического института он имел право ежегодно ездить в командировки в Москву. Там он занимался исследованиями зарубежных текстов в Библиотеке иностранной литературы, а также просматривал книги из каталога фантастики и заказывал микрофильмы — фотокопии книжных страниц. Услуга стоила недорого в сравнении с покупкой оригинала, которого в Москве с трудом находили в свободной продаже, не говоря уже о провинции. Он приходил в библиотеку с утра, заказывал около двух десятков книг и начинал просматривать, стараясь понять, стоит ли произведение перевода. Именно в Библиотеке иностранной литературы Грузберг обнаружил трёхтомник Джона Толкина, «автора, совершенно не известного». Чистовую версию перевода Грузберг написал от руки. «Я переводил в собственное удовольствие, до сих пор лежит толстенная тетрадка», — рассказывал Грузберг. Ему помогали коллеги по институту, некоторые даже переписывали роман не по одному разу. Грузбергу потребовалось около года, чтобы завершить работу. Его перевод благодаря деятельности пермских и ленинградских самиздатовцев широко разошёлся по СССР, гораздо шире, нежели работа Бобырь, а потому долгое время считался первым переводом Толкина на русский язык. «Я много раз встречал свой перевод. Приезжал в другой город, заходил в гости. Видел — на полке стоит перевод мой. В другом переплете, красиво изданный и разрисованный, но мой», — говорил Грузберг\n",
            "Section 2:  Юлия Грузберг, дочь Александр Грузберга, на протяжении всего 1976 года помогала отцу переводить «Властелина Колец». Она внимательно вычитывала перевод на предмет мелких ошибок или помарок, исправляла имена собственные и переводила стихотворения и песни Толкина, которые не мог перевести отец. «Это был не буквальный перевод, а „под настроение” оригинала», — писал Грузберг. Увлёкшись произведениями Толкина, Юлия изучила доступные ей материалы по его творчеству и под псевдонимом А. Щербакова опубликовала в декабре 1980 года в пермской молодёжной газете «Молодая Гвардия» заметку «Фродо жив!» (лозунг-граффити сторонников контркультуры 1960-х годов — прим. TJ). Впоследствии статья попала через московских работников самиздата в музей Толкина, существующий при компании Tolkien Estate, как первое упоминание «Властелина колец» в советской прессе — за два года до выхода первого официального перевода Кистяковского-Муравьёва на русском языке. В начале 1980-х годов переводы Грузберга попали в органы внутренних дел СССР, и переводчика вызвали в пермское отделение КГБ. Там его спрашивали о переводах зарубежной фантастики, в том числе Толкина, и о наличии разрешения на переводческую деятельность. «У нас на всё нужно разрешение. Вот если не будете переводить — будет всё спокойно. Будете продолжать — у вас будут большие неприятности», — вспоминал слова дознавателей Грузберг. Ему «повезло» — с ним лишь провели «воспитательную беседу», однако и этого хватило, чтобы филолог оставил переводы вплоть до развала СССР. По словам Грузберга, в советское время официально напечатать перевод «со стороны» считалось невозможным. Профессия переводчика при государственных издательствах считалась «элитарной» и хорошо оплачивалась. Существовал узкий круг людей, которые переводили разрешённые Главлитом произведения «и никого не подпускали к этому делу». «Властелин колец» в переводе Грузберга планировали издать в начале 1990-х годов вместе с переводом «Хоббита» Зинаиды Бобырь. Редактором и корректором выступила дочь переводчика Юлия Грузберг, которая к выходу книги написала специальное предисловие, однако эти планам не суждено было сбыться. Из-за проблем с авторскими правами печать приостановили. Официально перевод Грузберга появился в России только в начале 2000-х годов. Сокращенный перевод Кистяковского-Муравьёва, вышедший в 1982 году в издательстве «Детская литература» и подвергшийся «идеологической чистке», немедленно стал бестселлером. 100 тысяч экземпляров распродали менее чем за год. «Хранители» быстро стали дефицитным товаром. Книгу нельзя было достать даже в библиотеках, не говоря уже о магазинах, поскольку всё либо раздали читателям, либо украли прямо с полок. В 1983 году «Детская литература» решилась на беспрецедентный шаг и в условиях плановой экономики напечатала дополнительный тираж в 100 тысяч экземпляров. Сами Муравьёв и Кистяковский познакомились с Толкином ещё в начале 1970-х годов. Муравьёв, работавший в те годы в Библиотеке иностранной литературы, сделал несколько копий с того самого оригинала, который через несколько лет попал в руки к Александру Грузбергу. «Владимир Муравьёв, работавший в Библиотеке иностранной литературы, совершенно ошалел от этой книги, тут же он дал её Кистяковскому. В общем, человек пять прочитали эту книгу, и тоже ошалели», — рассказывала переводчица Наталья Трауберг. Планы на совместный перевод родились у Владимира Муравьёва в 1974 году. После недолгих уговоров Андрей Кистяковский, будучи, по словам коллег, человеком «заводным», загорелся идеей своего товарища, и они отправились в издательство «Детская литература» договариваться о публикации. Тогдашние руководители издательства согласились на публикацию, но потребовали убрать «идеологически невыдержанные» эпизоды, а также «детофицировать» текст, чтобы сделать его более привлекательным для молодёжи. Сами Муравьёв и Кистяковский не воспринимали «Властелина колец» как детскую книжку. «Сколько раз заходил разговор о том, что это — как „Путешествия Гулливера\": книга, которая живет вроде бы для детей, а читают её от семи до ста семи», — вспоминал переводчик Евгений Витковский, друг Андрея Кистяковского. В 1976 году Кистяковский говорил друзьям о работе над переводом Толкина «как о деле решённом вне зависимости от того, что надумает издательство». Переводчики жили недалеко друг от друга — «пятнадцать минут ходу», — и Муравьёв часто бывал у Кистяковского в гостях. Они обсуждали проделанную работу, перераспределяли между собой куски текста, рецензировали переводы друг друга и часто спорили, в основном на тему имен собственных и стихотворений Толкина. «Как я понимаю, перевод Кистяковского, особенно некоторых стихов, вызывал у Муравьёва досаду, он сокрушался: как человек талантливый этого не увидел, почему это не перевел, зачем сместил акцент? Про то, что он считал качественным переводом, он говорил: „Да, это сделано”, „Это работа!”», — вспоминал историк-востоковед Алексей Муравьёв, сын Владимира Муравьёва\n",
            "Section 3:  Черновик перевода The Fellowship of the Ring дуэт переводчиков закончил летом 1980 года. Несмотря на коммерческий успех, полный перевод первого тома «Властелина колец» без сокращений вышел только в 1988 году. Бытует немало версий, с чем связана такая задержка. Одна из самых популярных касается мировой политики. «Хранителям» Муравьева-Кистяковского «повезло» увидеть свет на пике Холодной войны, когда любая вскользь обронённая фраза могла иметь далеко идущие последствия. Две речи президента США Рональда Рейгана — одна в британской Палате Общин в 1982 году и вторая перед Национальной ассоциацией евангелистов в 1983 году, — в которых он призывал объединиться для противостояния Советскому Союзу, «империи зла», получили неожиданную трактовку. Исследователи на Западе и Востоке, зная о только что вышедшей первой официальной публикации Толкина на русском, соотнесли между собой выступления президента и совет Элронда, на котором люди, эльфы и гномы обсуждали угрозу Саурона с Востока. Намеренно или нет, Рейган вторил Гэндальфу. Волшебник говорил: «Понимание неизбежности риска, когда рассмотрены все возможные пути, — есть проявление мудрости. Безрассудством это может показаться тем, кто тешит себя ложными надеждами». Президент США в свою очередь обращался к слушателям: «Вот один урок истории, если она вообще чему-нибудь учит: неприятие фактов есть самообольщение и глупость». Парадоксальность ситуации состояла в том, что произведения аполитичного Толкина, никогда не подразумевавшего под «угрозой с Востока» СССР, оказались заложниками геополитической ситуации. Неявно (и вряд ли намеренно) сославшись на «Властелина колец» в момент обострения отношений между Москвой и Вашингтоном, Рейган вынудил советского читателя видеть прямые параллели между Мордором и Советским Союзом, которые Толкин, равнодушный к любой пропаганде, не закладывал в свои труды. Доподлинно неизвестно, насколько верна эта версия, однако работу Кистяковский и Муравьёв свернули. Впрочем, со слов коллег, переводчики не сомневались, что «Мордор — это гибрид сразу Советского Союза и нацистской Германии, об этом разговор был как о чем-то само собой разумеющемся». Другая версия, выдвинутая поэтом-переводчиком Евгением Витковским, заключалась в том, что перевод Толкина оказался под вопросом из-за политической деятельности Андрея Кистяковского. В 1978 году он начал активно участвовать в работе Фонда помощи политзаключенным, созданного Александром Солженицыным. С тех пор он, по словам жены Марины Шемаханской, «оказался как бы „под колпаком”». Его переводы продолжали печатать, однако начали «присматривать» за его работой, искать «за пазухой» антисоветские тексты. Вдобавок он приходился двоюродным племянником Джорджу Кистяковскому — научному советнику президента Эйзенхауера и одному из создателей первой атомной бомбы\n",
            "Section 4: Споры о лучшем варианте перевода «Властелина Колец» ведутся с начала 1990-х годов, когда советскому, а затем и российскому читателю стали доступны на выбор около десятка разнообразных переводов произведения Джона Толкина. Одни упирали на «высокохудожественность» трудов Кистяковского и Муравьёва, другим нравилась «точность» Грузберга, а третьи предпочитали «академичность» Каррика и Каменкович с многостраничными комментариями и пояснениями толкиновского языка. В дискуссиях о достоинствах и недостатках каждого перевода читатели, однако, забывают о людях, которые годами пытались адаптировать текст Толкина под особенности русского языка. TJ подробно рассказывает о переводчиках-первопроходцах, каждый из которых независимо друг от друга переводил «Властелина колец» сначала в 1960-е, потом в 1970-е, а затем в 1980-е годы. Официально «Властелин Колец» появился в СССР лишь в 1982 году — спустя 28 лет после первой публикации трёхтомника в Великобритании. Тогда на полки советских книжных и библиотек легли первые 100 тысяч экземпляров «Хранителей» — так филологи Владимир Муравьев и Андрей Кистяковский перевели название первого тома The Fellowship of the Ring. Роман увидел свет с многочисленными сокращениями, хотя представители Главлита — органа цензуры печатных произведений в СССР — охарактеризовали его как «самый идеологически безобидный» из всей трилогии. «Отсюда и повышенное внимание КГБ к Андрею. Он ненавидел советскую власть, и я ненавидел, и это была основа нашей дружбы», — рассказывал Евгений Витковский. Квартиру Кистяковского «слушали», в ней регулярно устраивали обыски, от которых он сбегал либо к Муравьёву, либо к Витковскому, иногда пережидал их, укрываясь в соседних дворах. Его вызывали на допросы в КГБ, где часто избивали и угрожали тюрьмой, но всякий раз отпускали. Однако в середине 1980-х годов Муравьёв договорился с издательством «Радуга» о продолжении работы над «Властелином колец». Во многом это была заслуга «перестройки», в результате которой Главлит с середины 1980-х постепенно терял свои полномочия и пропускал в печать всё больше «неудобных» книг. Вместе с Кистяковским Муравьёв «доперевёл» The Fellowship of the Ring в 1984-1987 годах. «Это был момент, когда ругань стояла непрерывная: Андрей был сильно болен, и ему все подряд не нравилось», — вспоминал Витковский. Владимир Муравьёв вторил ему: «Андрей был гениальным переводчиком, хотя мне было сложно с ним работать. Вообще он не переводил, а перелагал, создавал небывалую прозу». Последние годы жизни Кистяковский страдал от рака. Две успешные операции и курс подпольной химиотерапии — сотрудники КГБ запрещали столичным больницам принимать у себя переводчика — не помогли. Он скончался летом 1987 года. Марина Шемаханская вспоминала, что из органов к ним домой звонили почти каждый день до самой смерти Кистяковского, напоминали о заведённых на него уголовных делах и стремились вызвать на «беседы». Кистяковский и Муравьёв успели завершить новый перевод «Хранителей». The Two Towers и The Return of the King Муравьёв переводил уже самостоятельно — они вышли соответственно в 1990 и 1992 году, когда официально вышли более десятка других переводов, включая работу Зинаиды Бобырь. По воспоминаниям Марины Шемаханской, к ней после смерти мужа приходили письма читателей, «детей и не очень-то детей», в которых они сожалели, что Кистяковский не успел закончить перевод всей трилогии. «Герои будто бы „стали меньше ростом”», — вспоминала Шемаханская строки из писем. Когда в 1984 году стало ясно, что публикации The Two Towers и The Return of the King не предвидится в ближайшие годы, за дело взялись переводчики самиздата, что вылилось в первый «переводческий бум» «Властелина колец». Главной его особенностью было то, что все переводы этого периода начинались со второго тома саги, подражали стилю, взятому Кистяковским и Муравьёвым в «Хранителях», и брали их варианты имён собственных за основу. Один за другим в конце 1980-х — начале 1990-х годов последовали любительские переводы Алины Немировой, Валерии Маториной и Надежды Чертковой, распространившиеся в середине 1980-х годов в самиздате, а затем изданные официально в 1990-е годы, а также профессиональные — Григорьевой и Грушецкого, Волковского и Афиногеновой, Каррика и Каменкович. Однако каждый из них в той или иной степени опирался на переводы первопроходцев — Зинаиды Бобырь, Александра Грузберга, Андрея Кистяковского и Владимира Муравьёва. Список источников: Наталья Семёнова. «Перевод с богатой историей», «К вопросу о генезисе русских переводов „Властелина колец” Дж. Толкина», «Это не простое кольцо, а какой-то прибор!», «„Властелин Колец” в зеркале русских переводов»; Алина Немирова. «Творчество Толкина как литературный и социальный феномен»; Статья создана участником Лиги авторов. О том, как она работает и как туда вступить, рассказано в этом материале\n"
          ]
        }
      ]
    },
    {
      "cell_type": "code",
      "source": [
        "split_text(test_text, sections=False)"
      ],
      "metadata": {
        "colab": {
          "base_uri": "https://localhost:8080/"
        },
        "id": "IHee9hRCi9d-",
        "outputId": "2261646c-d76b-48f1-b166-b674c45755ae"
      },
      "execution_count": 24,
      "outputs": [
        {
          "output_type": "stream",
          "name": "stdout",
          "text": [
            "Paragraph 0: Споры о лучшем варианте перевода «Властелина Колец» ведутся с начала 1990-х годов, когда советскому, а затем и российскому читателю стали доступны на выбор около десятка разнообразных переводов произведения Джона Толкина. Одни упирали на «высокохудожественность» трудов Кистяковского и Муравьёва, другим нравилась «точность» Грузберга, а третьи предпочитали «академичность» Каррика и Каменкович с многостраничными комментариями и пояснениями толкиновского языка. В дискуссиях о достоинствах и недостатках каждого перевода читатели, однако, забывают о людях, которые годами пытались адаптировать текст Толкина под особенности русского языка\n",
            "Paragraph 1:  TJ подробно рассказывает о переводчиках-первопроходцах, каждый из которых независимо друг от друга переводил «Властелина колец» сначала в 1960-е, потом в 1970-е, а затем в 1980-е годы\n",
            "Paragraph 2:  Официально «Властелин Колец» появился в СССР лишь в 1982 году — спустя 28 лет после первой публикации трёхтомника в Великобритании. Тогда на полки советских книжных и библиотек легли первые 100 тысяч экземпляров «Хранителей» — так филологи Владимир Муравьев и Андрей Кистяковский перевели название первого тома The Fellowship of the Ring\n",
            "Paragraph 3:  Роман увидел свет с многочисленными сокращениями, хотя представители Главлита — органа цензуры печатных произведений в СССР — охарактеризовали его как «самый идеологически безобидный» из всей трилогии. Выходу перевода «Властелина колец» препятствовала государственная цензура, поскольку философия Толкина, по мнению советских цензоров, не соответствовала линии партии. Основная претензия заключалась в том, что «Властелин Колец» содержит «пессимистическую концепцию о необратимом влиянии зла на историческое развитие», которая не укладывалась в оптимистические рамки соцреализма, господствовавшего в советской литературе. Толкин призывал читателя «быть на высоте положения» и отвечать на вызовы Зла, не теряя надежды на торжество Добра, «если оно ещё сильно»\n",
            "Paragraph 4:  В Советском Союзе такую идею, очевидно, сочли содержащей политический подтекст, из-за чего книге не давали зелёный свет более 15 лет\n",
            "Paragraph 5:  Но в узких кругах московской и ленинградской интеллигенции о «Властелине Колец» знали не понаслышке ещё с 1960-х годов, когда появились первые самиздатовские переводы произведений Толкина. Энтузиасты на коленке переводили «идеологически невыдержанные» романы «буржуазного писателя», переписывали их от руки или перепечатывали на машинках и из-под полы раздавали своим знакомым. Те читали кустарные переводы ночи напролёт, прогуливая учёбу или работу, и через 3-4 дня владения передавали дальше — «надёжным знакомым»\n",
            "Paragraph 6:  Самиздатовцы сильно рисковали, переводя, перепечатывая и даже храня запрещённую литературу — это считалось уголовным преступлением. «Человек терял работу по специальности (или терял возможность продолжать образование), ограничивалась вообще возможность заработков, могли применить административные репрессии. И, кстати говоря, это означало испортить жизнь также и своей семье, родным, друзьям и коллегам», — рассказывала советский филолог Евгения Смагина\n",
            "Paragraph 7:  «Властелин колец» эпохи 1960-1970-х годов считался «классической диссидентской книгой» как по форме — тексты привозили из-за рубежа, тайно перепечатывали, устно пересказывали на собраниях, — так и по содержанию — читатели, по словам переводчицы Натальи Трауберг, воспринимали книгу не иначе как «миф… как книгу надежды в безнадёжности»\n",
            "Paragraph 8:  По словам исследователя русских переводов Толкина Марка Хукера «один из очевидцев выучил текст „Властелина Колец“ наизусть и стал ходячей книгой, оживив тем самым „451 градус по Фаренгейту“ Рэя Брэдбери». Из-за разрозненности и изолированности самиздатовских групп с середины 1960-х годов по рукам начали ходить несколько независимых переводов книг Толкина. Первым переводом «Властелина Колец» на русский язык стала «Повесть о кольце» Зинаиды Бобырь, известной переводчицы западной научной фантастики. Благодаря ей в 1950-е годы в СССР попали ранее неизданные произведения Айзека Азимова, Станислава Лема, Роберта Хайнлайна и Эдмона Гамильтона. Впрочем, назвать работу Бобырь над «Властелином колец» «переводом» в прямом смысле этого слова нельзя. Скорее это адаптированный пересказ, сокращённый почти в три раза — целые главы Бобырь умещала в пару абзацев — и содержащий нескольких новых сюжетных линий\n",
            "Paragraph 9:  Помимо Кольца Всевластья у переводчицы присутствовал Серебряный Венец — древнее сокровище, которое испепеляло недостойных правителей и давало «величайшую мудрость и всеведение» достойным. Саурон захватил Венец, однако не смел его коснуться, поскольку был «недостойным» без Кольца Всевластья\n",
            "Paragraph 10:  Арагорну же для получения Венца требовалось победить Саурона\n",
            "Paragraph 11:  Однако главным отличием от оригинала стали авторские интермедии Бобырь. Переводчица, прекрасно знакомая с зарубежной научной фантастикой, встроила их в повествование таким образом, что адаптированное произведение Толкина превращалось в «рассказ в рассказе», который обрамляет другая история о пятёрке учёных, нашедших древнее Кольцо\n",
            "Paragraph 12:  Артефакт воздействовал на исследователей, которые шаг за шагом «вспоминали» историю Кольца — события, описанные Толкином, — и пытались объяснить их, в том числе магию, с научной точки зрения. В конце учёные приходили к выводу, что Кольцо — «это не простое кольцо, а какой-то прибор… хранилище информации, которую оно отдает под воздействием искры»\n",
            "Paragraph 13:  «Властелин колец» в руках Зинаиды Бобырь из эпического фэнтези превратился в научно-фантастический роман с вкраплениями нарочитой «сказочности», почерпнутой из разрешённого цензурой «Хоббита», однако такие метаморфозы казались переводчице оправданными. Благодаря им Бобырь сумела спрятать «буржуазное» происхождение автора и подстроить нестандартный толкиновский эпос под культурные и исторические реалии советского общества 1960-х годов\n",
            "Paragraph 14:  Научно-фантастическая сказка о далёком прошлом неизвестной планеты не пересекалась с реальными историческими процессами, что позволяло «Повести о кольце» избегать любых политических аллюзий и обвинений в мистике\n",
            "Paragraph 15:  Однако Бобырь была не первой на этом поприще. До неё в 1930-х годах Александр Волков схожим образом создал «Волшебника Изумрудного города» на основе «Волшебника страны Оз», а Алексей Толстой превратил «Пиноккио» в «Буратино»\n",
            "Paragraph 16:  В 1966 году, спустя год работы, Бобырь принесла рукопись «Повести о кольце» в редакцию журнала «Техника — молодёжи», в котором она работала переводчицей с 1943 года. Бобырь надеялась, что в адаптированном и сокращённом виде Толкина напечатают с продолжением в нескольких номерах, как это было с произведениями других авторов\n",
            "Paragraph 17:  Но в журнале «Повесть о кольце» сочли излишне экспериментальной и, побоявшись, что советская публика просто не поймёт новшеств толкиновского текста, отказали в публикации. Работа переводчицы попала в самиздат и более 20 лет провела там, в составе различных сборников. Перевод Бобырь несколько раз редактировался в 1970-х годах другими авторами, например, инженером Семёном Уманским, завсегдатаем московских «кухонных посиделок»\n",
            "Paragraph 18:  В 1975 году он увидел «Повесть о кольце», когда гостил у своего старого друга Бориса Смагина, журналиста в редакции «Техника — молодёжи», и «загорелся» книгой. Семён Уманский восстановил около 15 глав и все стихотворения, а также добавил предисловие, состоящее из «писем» Толкина и его друга-учёного\n",
            "Paragraph 19:  Первый в письме к читателям писал, что «получил рукопись и сопроводительную записку… от друга, который работал в Институте проблемных исследований в Дербишире»\n",
            "Paragraph 20:  Друг, в свою очередь, — один из пятёрки учёных — обращался к Толкину: «В силу невероятных обстоятельств нам, пятерым, довелось участвовать в одном эксперименте, окончившемся для нас\n",
            "Paragraph 21: .. плачевно. Мы оказались обладателями совершенно фантастической информации». Дополненный перевод Уманского-Бобырь никогда не издавался, а его читателями был ограниченный круг лиц из членов московского самиздата\n",
            "Paragraph 22:  В конце 1970-х годах вся семья Уманских эмигрировала в США. Филолог Евгения Смагина предполагала, что Уманским вряд ли разрешили вывезти самиздатовские переводы за рубеж — возможно, большая часть напечатанных экземпляров осталась в частных коллекциях\n",
            "Paragraph 23:  Труды Зинаиды Бобырь, несмотря на свою экспериментальную сущность, не затерялись бесследно в самиздатовских списках и получили вторую жизнь\n",
            "Paragraph 24:  В 1980-е годы ранняя версия перевода стала основой для перевода Натальи Григорьевой и Владимира Грушецкого. А в 1990 и 1991 годах московское издательство «Интерпринт» официально выпустило «Повесть о кольце» — спустя 25 лет после её создания. Но к этому моменту перевод Бобырь, написанный в иную эпоху и создававшийся в иных целях, оказался белой вороной, незаслуженно недооценённой на фоне лавины других, более «академических» переводов\n",
            "Paragraph 25:  В 1975-1976 годах второй самиздатовский перевод «Властелина Колец» выполнил филолог и переводчик Александр Грузберг. К тому моменту он уже несколько лет занимался переводами зарубежной фантастики и тесно сотрудничал с Раисом Зариповым, активным деятелем пермского самиздата. Еженедельно они, как и другие любители чтения, встречались на вещевом рынке Перми и обменивались «хорошими» книгами, которые в те годы были в «самом остром дефиците». Впоследствии Зарипов начал заказывать у Грузберга, филолога по образованию, переводы научно-фантастических повестей и романов\n",
            "Paragraph 26:  В те годы существовало разветвлённое самиздатовское производство с центром в Ленинграде. Провинциальные «координаторы», как, например, Зарипов, печатали книги на папиросной бумаге в шести экземплярах под копирку, переплетали их, оставляли два экземпляра (один — себе, другой — переводчику), а оставшиеся четыре отправляли бандеролью или попуткой в Ленинград. Там переводы книг «размножали» и распределяли по другим городам СССР, отправляя обратно ещё непереведённый самиздат\n",
            "Paragraph 27:  Грузберг знал, что участвует в незаконной деятельности, однако работу не прекращал, хотя за неё не платили — Зарипов просто приносил филологу в обмен на переводы новые книги\n",
            "Paragraph 28:  О лаврах профессионального переводчика Грузберг не думал, «просто занимаясь тем, что нравится». Со временем оригинальных текстов для перевода становилось всё меньше, а те, что были доступны, Грузберг уже перевёл. Как «перспективный научный работник» Пермского педагогического института он имел право ежегодно ездить в командировки в Москву. Там он занимался исследованиями зарубежных текстов в Библиотеке иностранной литературы, а также просматривал книги из каталога фантастики и заказывал микрофильмы — фотокопии книжных страниц\n",
            "Paragraph 29:  Услуга стоила недорого в сравнении с покупкой оригинала, которого в Москве с трудом находили в свободной продаже, не говоря уже о провинции. Он приходил в библиотеку с утра, заказывал около двух десятков книг и начинал просматривать, стараясь понять, стоит ли произведение перевода. Именно в Библиотеке иностранной литературы Грузберг обнаружил трёхтомник Джона Толкина, «автора, совершенно не известного». Чистовую версию перевода Грузберг написал от руки. «Я переводил в собственное удовольствие, до сих пор лежит толстенная тетрадка», — рассказывал Грузберг. Ему помогали коллеги по институту, некоторые даже переписывали роман не по одному разу\n",
            "Paragraph 30:  Грузбергу потребовалось около года, чтобы завершить работу. Его перевод благодаря деятельности пермских и ленинградских самиздатовцев широко разошёлся по СССР, гораздо шире, нежели работа Бобырь, а потому долгое время считался первым переводом Толкина на русский язык\n",
            "Paragraph 31:  «Я много раз встречал свой перевод. Приезжал в другой город, заходил в гости. Видел — на полке стоит перевод мой. В другом переплете, красиво изданный и разрисованный, но мой», — говорил Грузберг. Юлия Грузберг, дочь Александр Грузберга, на протяжении всего 1976 года помогала отцу переводить «Властелина Колец». Она внимательно вычитывала перевод на предмет мелких ошибок или помарок, исправляла имена собственные и переводила стихотворения и песни Толкина, которые не мог перевести отец. «Это был не буквальный перевод, а „под настроение” оригинала», — писал Грузберг\n",
            "Paragraph 32:  Увлёкшись произведениями Толкина, Юлия изучила доступные ей материалы по его творчеству и под псевдонимом А. Щербакова опубликовала в декабре 1980 года в пермской молодёжной газете «Молодая Гвардия» заметку «Фродо жив!» (лозунг-граффити сторонников контркультуры 1960-х годов — прим. TJ). Впоследствии статья попала через московских работников самиздата в музей Толкина, существующий при компании Tolkien Estate, как первое упоминание «Властелина колец» в советской прессе — за два года до выхода первого официального перевода Кистяковского-Муравьёва на русском языке\n",
            "Paragraph 33:  В начале 1980-х годов переводы Грузберга попали в органы внутренних дел СССР, и переводчика вызвали в пермское отделение КГБ. Там его спрашивали о переводах зарубежной фантастики, в том числе Толкина, и о наличии разрешения на переводческую деятельность\n",
            "Paragraph 34:  «У нас на всё нужно разрешение. Вот если не будете переводить — будет всё спокойно. Будете продолжать — у вас будут большие неприятности», — вспоминал слова дознавателей Грузберг. Ему «повезло» — с ним лишь провели «воспитательную беседу», однако и этого хватило, чтобы филолог оставил переводы вплоть до развала СССР\n",
            "Paragraph 35:  По словам Грузберга, в советское время официально напечатать перевод «со стороны» считалось невозможным. Профессия переводчика при государственных издательствах считалась «элитарной» и хорошо оплачивалась. Существовал узкий круг людей, которые переводили разрешённые Главлитом произведения «и никого не подпускали к этому делу»\n",
            "Paragraph 36:  «Властелин колец» в переводе Грузберга планировали издать в начале 1990-х годов вместе с переводом «Хоббита» Зинаиды Бобырь. Редактором и корректором выступила дочь переводчика Юлия Грузберг, которая к выходу книги написала специальное предисловие, однако эти планам не суждено было сбыться. Из-за проблем с авторскими правами печать приостановили\n",
            "Paragraph 37:  Официально перевод Грузберга появился в России только в начале 2000-х годов. Сокращенный перевод Кистяковского-Муравьёва, вышедший в 1982 году в издательстве «Детская литература» и подвергшийся «идеологической чистке», немедленно стал бестселлером. 100 тысяч экземпляров распродали менее чем за год\n",
            "Paragraph 38:  «Хранители» быстро стали дефицитным товаром. Книгу нельзя было достать даже в библиотеках, не говоря уже о магазинах, поскольку всё либо раздали читателям, либо украли прямо с полок. В 1983 году «Детская литература» решилась на беспрецедентный шаг и в условиях плановой экономики напечатала дополнительный тираж в 100 тысяч экземпляров\n",
            "Paragraph 39:  Сами Муравьёв и Кистяковский познакомились с Толкином ещё в начале 1970-х годов. Муравьёв, работавший в те годы в Библиотеке иностранной литературы, сделал несколько копий с того самого оригинала, который через несколько лет попал в руки к Александру Грузбергу. «Владимир Муравьёв, работавший в Библиотеке иностранной литературы, совершенно ошалел от этой книги, тут же он дал её Кистяковскому. В общем, человек пять прочитали эту книгу, и тоже ошалели», — рассказывала переводчица Наталья Трауберг\n",
            "Paragraph 40:  Планы на совместный перевод родились у Владимира Муравьёва в 1974 году. После недолгих уговоров Андрей Кистяковский, будучи, по словам коллег, человеком «заводным», загорелся идеей своего товарища, и они отправились в издательство «Детская литература» договариваться о публикации. Тогдашние руководители издательства согласились на публикацию, но потребовали убрать «идеологически невыдержанные» эпизоды, а также «детофицировать» текст, чтобы сделать его более привлекательным для молодёжи\n",
            "Paragraph 41:  Сами Муравьёв и Кистяковский не воспринимали «Властелина колец» как детскую книжку. «Сколько раз заходил разговор о том, что это — как „Путешествия Гулливера\": книга, которая живет вроде бы для детей, а читают её от семи до ста семи», — вспоминал переводчик Евгений Витковский, друг Андрея Кистяковского\n",
            "Paragraph 42:  В 1976 году Кистяковский говорил друзьям о работе над переводом Толкина «как о деле решённом вне зависимости от того, что надумает издательство». Переводчики жили недалеко друг от друга — «пятнадцать минут ходу», — и Муравьёв часто бывал у Кистяковского в гостях. Они обсуждали проделанную работу, перераспределяли между собой куски текста, рецензировали переводы друг друга и часто спорили, в основном на тему имен собственных и стихотворений Толкина\n",
            "Paragraph 43:  «Как я понимаю, перевод Кистяковского, особенно некоторых стихов, вызывал у Муравьёва досаду, он сокрушался: как человек талантливый этого не увидел, почему это не перевел, зачем сместил акцент? Про то, что он считал качественным переводом, он говорил: „Да, это сделано”, „Это работа!”», — вспоминал историк-востоковед Алексей Муравьёв, сын Владимира Муравьёва. Черновик перевода The Fellowship of the Ring дуэт переводчиков закончил летом 1980 года. Несмотря на коммерческий успех, полный перевод первого тома «Властелина колец» без сокращений вышел только в 1988 году. Бытует немало версий, с чем связана такая задержка\n",
            "Paragraph 44:  Одна из самых популярных касается мировой политики. «Хранителям» Муравьева-Кистяковского «повезло» увидеть свет на пике Холодной войны, когда любая вскользь обронённая фраза могла иметь далеко идущие последствия\n",
            "Paragraph 45:  Две речи президента США Рональда Рейгана — одна в британской Палате Общин в 1982 году и вторая перед Национальной ассоциацией евангелистов в 1983 году, — в которых он призывал объединиться для противостояния Советскому Союзу, «империи зла», получили неожиданную трактовку\n",
            "Paragraph 46:  Исследователи на Западе и Востоке, зная о только что вышедшей первой официальной публикации Толкина на русском, соотнесли между собой выступления президента и совет Элронда, на котором люди, эльфы и гномы обсуждали угрозу Саурона с Востока. Намеренно или нет, Рейган вторил Гэндальфу. Волшебник говорил: «Понимание неизбежности риска, когда рассмотрены все возможные пути, — есть проявление мудрости\n",
            "Paragraph 47:  Безрассудством это может показаться тем, кто тешит себя ложными надеждами». Президент США в свою очередь обращался к слушателям: «Вот один урок истории, если она вообще чему-нибудь учит: неприятие фактов есть самообольщение и глупость»\n",
            "Paragraph 48:  Парадоксальность ситуации состояла в том, что произведения аполитичного Толкина, никогда не подразумевавшего под «угрозой с Востока» СССР, оказались заложниками геополитической ситуации. Неявно (и вряд ли намеренно) сославшись на «Властелина колец» в момент обострения отношений между Москвой и Вашингтоном, Рейган вынудил советского читателя видеть прямые параллели между Мордором и Советским Союзом, которые Толкин, равнодушный к любой пропаганде, не закладывал в свои труды\n",
            "Paragraph 49:  Доподлинно неизвестно, насколько верна эта версия, однако работу Кистяковский и Муравьёв свернули. Впрочем, со слов коллег, переводчики не сомневались, что «Мордор — это гибрид сразу Советского Союза и нацистской Германии, об этом разговор был как о чем-то само собой разумеющемся»\n",
            "Paragraph 50:  Другая версия, выдвинутая поэтом-переводчиком Евгением Витковским, заключалась в том, что перевод Толкина оказался под вопросом из-за политической деятельности Андрея Кистяковского. В 1978 году он начал активно участвовать в работе Фонда помощи политзаключенным, созданного Александром Солженицыным. С тех пор он, по словам жены Марины Шемаханской, «оказался как бы „под колпаком”»\n",
            "Paragraph 51:  Его переводы продолжали печатать, однако начали «присматривать» за его работой, искать «за пазухой» антисоветские тексты. Вдобавок он приходился двоюродным племянником Джорджу Кистяковскому — научному советнику президента Эйзенхауера и одному из создателей первой атомной бомбы. «Отсюда и повышенное внимание КГБ к Андрею. Он ненавидел советскую власть, и я ненавидел, и это была основа нашей дружбы», — рассказывал Евгений Витковский. Квартиру Кистяковского «слушали», в ней регулярно устраивали обыски, от которых он сбегал либо к Муравьёву, либо к Витковскому, иногда пережидал их, укрываясь в соседних дворах. Его вызывали на допросы в КГБ, где часто избивали и угрожали тюрьмой, но всякий раз отпускали\n",
            "Paragraph 52:  Однако в середине 1980-х годов Муравьёв договорился с издательством «Радуга» о продолжении работы над «Властелином колец». Во многом это была заслуга «перестройки», в результате которой Главлит с середины 1980-х постепенно терял свои полномочия и пропускал в печать всё больше «неудобных» книг. Вместе с Кистяковским Муравьёв «доперевёл» The Fellowship of the Ring в 1984-1987 годах\n",
            "Paragraph 53:  «Это был момент, когда ругань стояла непрерывная: Андрей был сильно болен, и ему все подряд не нравилось», — вспоминал Витковский. Владимир Муравьёв вторил ему: «Андрей был гениальным переводчиком, хотя мне было сложно с ним работать. Вообще он не переводил, а перелагал, создавал небывалую прозу». Последние годы жизни Кистяковский страдал от рака\n",
            "Paragraph 54:  Две успешные операции и курс подпольной химиотерапии — сотрудники КГБ запрещали столичным больницам принимать у себя переводчика — не помогли. Он скончался летом 1987 года. Марина Шемаханская вспоминала, что из органов к ним домой звонили почти каждый день до самой смерти Кистяковского, напоминали о заведённых на него уголовных делах и стремились вызвать на «беседы»\n",
            "Paragraph 55:  Кистяковский и Муравьёв успели завершить новый перевод «Хранителей». The Two Towers и The Return of the King Муравьёв переводил уже самостоятельно — они вышли соответственно в 1990 и 1992 году, когда официально вышли более десятка других переводов, включая работу Зинаиды Бобырь. По воспоминаниям Марины Шемаханской, к ней после смерти мужа приходили письма читателей, «детей и не очень-то детей», в которых они сожалели, что Кистяковский не успел закончить перевод всей трилогии. «Герои будто бы „стали меньше ростом”», — вспоминала Шемаханская строки из писем\n",
            "Paragraph 56:  Когда в 1984 году стало ясно, что публикации The Two Towers и The Return of the King не предвидится в ближайшие годы, за дело взялись переводчики самиздата, что вылилось в первый «переводческий бум» «Властелина колец». Главной его особенностью было то, что все переводы этого периода начинались со второго тома саги, подражали стилю, взятому Кистяковским и Муравьёвым в «Хранителях», и брали их варианты имён собственных за основу\n",
            "Paragraph 57:  Один за другим в конце 1980-х — начале 1990-х годов последовали любительские переводы Алины Немировой, Валерии Маториной и Надежды Чертковой, распространившиеся в середине 1980-х годов в самиздате, а затем изданные официально в 1990-е годы, а также профессиональные — Григорьевой и Грушецкого, Волковского и Афиногеновой, Каррика и Каменкович. Однако каждый из них в той или иной степени опирался на переводы первопроходцев — Зинаиды Бобырь, Александра Грузберга, Андрея Кистяковского и Владимира Муравьёва\n",
            "Paragraph 58:  Список источников: Наталья Семёнова\n",
            "Paragraph 59:  «Перевод с богатой историей», «К вопросу о генезисе русских переводов „Властелина колец” Дж. Толкина», «Это не простое кольцо, а какой-то прибор!», «„Властелин Колец” в зеркале русских переводов»; Алина Немирова\n",
            "Paragraph 60:  «Творчество Толкина как литературный и социальный феномен»; Статья создана участником Лиги авторов. О том, как она работает и как туда вступить, рассказано в этом материале\n"
          ]
        }
      ]
    },
    {
      "cell_type": "markdown",
      "source": [
        "# Вывод"
      ],
      "metadata": {
        "id": "rX-nbhcNTSEf"
      }
    },
    {
      "cell_type": "markdown",
      "source": [
        "Получили неплохое качество классификации. Одним из главных минусов данной работы в том что используются только первые 25 токенов каждого предложения."
      ],
      "metadata": {
        "id": "2uxg-GUcTYlW"
      }
    }
  ]
}